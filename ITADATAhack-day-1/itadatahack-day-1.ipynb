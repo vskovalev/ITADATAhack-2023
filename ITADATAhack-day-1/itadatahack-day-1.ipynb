{
  "cells": [
    {
      "cell_type": "code",
      "execution_count": 1,
      "metadata": {
        "colab": {
          "base_uri": "https://localhost:8080/",
          "height": 127
        },
        "id": "By5Nfa79goW4",
        "outputId": "7b349412-c4d8-4c6e-c304-09a30e6a3d82"
      },
      "outputs": [
        {
          "data": {
            "text/html": [
              "\n",
              "     <input type=\"file\" id=\"files-7ba2b5a4-d9ea-43f0-9765-c895a5124657\" name=\"files[]\" multiple disabled\n",
              "        style=\"border:none\" />\n",
              "     <output id=\"result-7ba2b5a4-d9ea-43f0-9765-c895a5124657\">\n",
              "      Upload widget is only available when the cell has been executed in the\n",
              "      current browser session. Please rerun this cell to enable.\n",
              "      </output>\n",
              "      <script>// Copyright 2017 Google LLC\n",
              "//\n",
              "// Licensed under the Apache License, Version 2.0 (the \"License\");\n",
              "// you may not use this file except in compliance with the License.\n",
              "// You may obtain a copy of the License at\n",
              "//\n",
              "//      http://www.apache.org/licenses/LICENSE-2.0\n",
              "//\n",
              "// Unless required by applicable law or agreed to in writing, software\n",
              "// distributed under the License is distributed on an \"AS IS\" BASIS,\n",
              "// WITHOUT WARRANTIES OR CONDITIONS OF ANY KIND, either express or implied.\n",
              "// See the License for the specific language governing permissions and\n",
              "// limitations under the License.\n",
              "\n",
              "/**\n",
              " * @fileoverview Helpers for google.colab Python module.\n",
              " */\n",
              "(function(scope) {\n",
              "function span(text, styleAttributes = {}) {\n",
              "  const element = document.createElement('span');\n",
              "  element.textContent = text;\n",
              "  for (const key of Object.keys(styleAttributes)) {\n",
              "    element.style[key] = styleAttributes[key];\n",
              "  }\n",
              "  return element;\n",
              "}\n",
              "\n",
              "// Max number of bytes which will be uploaded at a time.\n",
              "const MAX_PAYLOAD_SIZE = 100 * 1024;\n",
              "\n",
              "function _uploadFiles(inputId, outputId) {\n",
              "  const steps = uploadFilesStep(inputId, outputId);\n",
              "  const outputElement = document.getElementById(outputId);\n",
              "  // Cache steps on the outputElement to make it available for the next call\n",
              "  // to uploadFilesContinue from Python.\n",
              "  outputElement.steps = steps;\n",
              "\n",
              "  return _uploadFilesContinue(outputId);\n",
              "}\n",
              "\n",
              "// This is roughly an async generator (not supported in the browser yet),\n",
              "// where there are multiple asynchronous steps and the Python side is going\n",
              "// to poll for completion of each step.\n",
              "// This uses a Promise to block the python side on completion of each step,\n",
              "// then passes the result of the previous step as the input to the next step.\n",
              "function _uploadFilesContinue(outputId) {\n",
              "  const outputElement = document.getElementById(outputId);\n",
              "  const steps = outputElement.steps;\n",
              "\n",
              "  const next = steps.next(outputElement.lastPromiseValue);\n",
              "  return Promise.resolve(next.value.promise).then((value) => {\n",
              "    // Cache the last promise value to make it available to the next\n",
              "    // step of the generator.\n",
              "    outputElement.lastPromiseValue = value;\n",
              "    return next.value.response;\n",
              "  });\n",
              "}\n",
              "\n",
              "/**\n",
              " * Generator function which is called between each async step of the upload\n",
              " * process.\n",
              " * @param {string} inputId Element ID of the input file picker element.\n",
              " * @param {string} outputId Element ID of the output display.\n",
              " * @return {!Iterable<!Object>} Iterable of next steps.\n",
              " */\n",
              "function* uploadFilesStep(inputId, outputId) {\n",
              "  const inputElement = document.getElementById(inputId);\n",
              "  inputElement.disabled = false;\n",
              "\n",
              "  const outputElement = document.getElementById(outputId);\n",
              "  outputElement.innerHTML = '';\n",
              "\n",
              "  const pickedPromise = new Promise((resolve) => {\n",
              "    inputElement.addEventListener('change', (e) => {\n",
              "      resolve(e.target.files);\n",
              "    });\n",
              "  });\n",
              "\n",
              "  const cancel = document.createElement('button');\n",
              "  inputElement.parentElement.appendChild(cancel);\n",
              "  cancel.textContent = 'Cancel upload';\n",
              "  const cancelPromise = new Promise((resolve) => {\n",
              "    cancel.onclick = () => {\n",
              "      resolve(null);\n",
              "    };\n",
              "  });\n",
              "\n",
              "  // Wait for the user to pick the files.\n",
              "  const files = yield {\n",
              "    promise: Promise.race([pickedPromise, cancelPromise]),\n",
              "    response: {\n",
              "      action: 'starting',\n",
              "    }\n",
              "  };\n",
              "\n",
              "  cancel.remove();\n",
              "\n",
              "  // Disable the input element since further picks are not allowed.\n",
              "  inputElement.disabled = true;\n",
              "\n",
              "  if (!files) {\n",
              "    return {\n",
              "      response: {\n",
              "        action: 'complete',\n",
              "      }\n",
              "    };\n",
              "  }\n",
              "\n",
              "  for (const file of files) {\n",
              "    const li = document.createElement('li');\n",
              "    li.append(span(file.name, {fontWeight: 'bold'}));\n",
              "    li.append(span(\n",
              "        `(${file.type || 'n/a'}) - ${file.size} bytes, ` +\n",
              "        `last modified: ${\n",
              "            file.lastModifiedDate ? file.lastModifiedDate.toLocaleDateString() :\n",
              "                                    'n/a'} - `));\n",
              "    const percent = span('0% done');\n",
              "    li.appendChild(percent);\n",
              "\n",
              "    outputElement.appendChild(li);\n",
              "\n",
              "    const fileDataPromise = new Promise((resolve) => {\n",
              "      const reader = new FileReader();\n",
              "      reader.onload = (e) => {\n",
              "        resolve(e.target.result);\n",
              "      };\n",
              "      reader.readAsArrayBuffer(file);\n",
              "    });\n",
              "    // Wait for the data to be ready.\n",
              "    let fileData = yield {\n",
              "      promise: fileDataPromise,\n",
              "      response: {\n",
              "        action: 'continue',\n",
              "      }\n",
              "    };\n",
              "\n",
              "    // Use a chunked sending to avoid message size limits. See b/62115660.\n",
              "    let position = 0;\n",
              "    do {\n",
              "      const length = Math.min(fileData.byteLength - position, MAX_PAYLOAD_SIZE);\n",
              "      const chunk = new Uint8Array(fileData, position, length);\n",
              "      position += length;\n",
              "\n",
              "      const base64 = btoa(String.fromCharCode.apply(null, chunk));\n",
              "      yield {\n",
              "        response: {\n",
              "          action: 'append',\n",
              "          file: file.name,\n",
              "          data: base64,\n",
              "        },\n",
              "      };\n",
              "\n",
              "      let percentDone = fileData.byteLength === 0 ?\n",
              "          100 :\n",
              "          Math.round((position / fileData.byteLength) * 100);\n",
              "      percent.textContent = `${percentDone}% done`;\n",
              "\n",
              "    } while (position < fileData.byteLength);\n",
              "  }\n",
              "\n",
              "  // All done.\n",
              "  yield {\n",
              "    response: {\n",
              "      action: 'complete',\n",
              "    }\n",
              "  };\n",
              "}\n",
              "\n",
              "scope.google = scope.google || {};\n",
              "scope.google.colab = scope.google.colab || {};\n",
              "scope.google.colab._files = {\n",
              "  _uploadFiles,\n",
              "  _uploadFilesContinue,\n",
              "};\n",
              "})(self);\n",
              "</script> "
            ],
            "text/plain": [
              "<IPython.core.display.HTML object>"
            ]
          },
          "metadata": {},
          "output_type": "display_data"
        },
        {
          "name": "stdout",
          "output_type": "stream",
          "text": [
            "Saving kaggle.json to kaggle (2).json\n",
            "mkdir: cannot create directory ‘/root/.kaggle’: File exists\n",
            "itadatahack.zip: Skipping, found more recently modified local copy (use --force to force download)\n"
          ]
        }
      ],
      "source": [
        "from google.colab import files\n",
        "\n",
        "files.upload()\n",
        "\n",
        "! mkdir ~/.kaggle\n",
        "! cp kaggle.json ~/.kaggle/\n",
        "! chmod 600 ~/.kaggle/kaggle.json\n",
        "! kaggle datasets download -d vladislavkovalev/itadatahack\n",
        "!kaggle datasets download -d vladislavkovalev/itadatahack-test"
      ]
    },
    {
      "cell_type": "code",
      "execution_count": null,
      "metadata": {
        "colab": {
          "base_uri": "https://localhost:8080/"
        },
        "id": "DyeSncK2g9YI",
        "outputId": "6b6e9932-f5d0-4a76-9aed-1f237d0892a0"
      },
      "outputs": [],
      "source": [
        "! mkdir data\n",
        "! unzip itadatahack.zip -d data\n",
        "! unzip itadatahack-test.zip -d data"
      ]
    },
    {
      "cell_type": "code",
      "execution_count": null,
      "metadata": {},
      "outputs": [],
      "source": [
        "!pip install -q transformers==4.17.0\n",
        "!pip install -q datasets==2.3.2\n",
        "\n",
        "import pandas as pd\n",
        "import numpy as np\n",
        "from sklearn.preprocessing import MultiLabelBinarizer\n",
        "from transformers import AutoTokenizer\n",
        "from transformers import AutoModelForSequenceClassification\n",
        "from transformers import TrainingArguments, Trainer\n",
        "from sklearn.metrics import f1_score, roc_auc_score, accuracy_score\n",
        "from transformers import EvalPrediction\n",
        "import torch\n",
        "import pyarrow as pa\n",
        "import pyarrow.dataset as ds\n",
        "import pandas as pd\n",
        "from datasets import Dataset\n",
        "import re\n",
        "from sklearn.metrics import f1_score, roc_auc_score, accuracy_score\n",
        "from transformers import EvalPrediction\n",
        "import torch\n",
        "import nltk\n",
        "from nltk.corpus import stopwords\n",
        "from nltk.stem import WordNetLemmatizer"
      ]
    },
    {
      "cell_type": "code",
      "execution_count": null,
      "metadata": {},
      "outputs": [],
      "source": [
        "def numbers_to_classes(l):\n",
        "  zero_cl = [0.0] * 20\n",
        "  zero_cl[int(l)-1] = 1.0\n",
        "  return np.array(zero_cl, dtype=np.float)\n",
        "\n",
        "\n",
        "def preprocess_data(examples):\n",
        "  # take a batch of texts\n",
        "  text = examples[\"text\"]\n",
        "  text = [re.sub(\"^[A-Za-z0-9]*$\", \"\", text_iter.lower())\n",
        "      .replace(' sep ', 'SEP') for text_iter in text]\n",
        "  # encode them\n",
        "  encoding = tokenizer(text, padding=\"max_length\",\n",
        "                       truncation=True, max_length=500)\n",
        "\n",
        "  # add labels\n",
        "  labels_matrix = []\n",
        "  for r in examples[\"old_labels\"]:\n",
        "    labels_matrix.append(np.array(numbers_to_classes(r), dtype=float))\n",
        "  # print(labels_matrix)\n",
        "  encoding[\"labels\"] = np.array(labels_matrix, dtype=float)\n",
        "\n",
        "  return encoding\n",
        "\n",
        "\n",
        "def multi_label_metrics(predictions, labels):\n",
        "    # first, apply sigmoid on predictions which are of shape (batch_size, num_labels)\n",
        "    sigmoid = torch.nn.Sigmoid()\n",
        "    probs = sigmoid(torch.Tensor(predictions))\n",
        "\n",
        "    y_pred = np.zeros(probs.shape)\n",
        "    num_rows = probs.size(0)\n",
        "    y_pred[range(num_rows), np.argmax(probs, axis=1)] = 1\n",
        "\n",
        "    # finally, compute metrics\n",
        "    y_true = labels\n",
        "    f1_micro_average = f1_score(y_true=y_true, y_pred=y_pred, average='micro')\n",
        "    roc_auc = roc_auc_score(y_true, y_pred, average = 'micro')\n",
        "    accuracy = accuracy_score(y_true, y_pred)\n",
        "    # return as dictionary\n",
        "    metrics = {'f1': f1_micro_average,\n",
        "               'roc_auc': roc_auc,\n",
        "               'accuracy': accuracy}\n",
        "    return metrics\n",
        "\n",
        "\n",
        "def compute_metrics(p: EvalPrediction):\n",
        "    preds = p.predictions[0] if isinstance(p.predictions,\n",
        "            tuple) else p.predictions\n",
        "    result = multi_label_metrics(\n",
        "        predictions=preds,\n",
        "        labels=p.label_ids)\n",
        "    return result\n",
        "\n",
        "\n",
        "def predict_label(text):\n",
        "    encoding = tokenizer(text, padding=\"max_length\",\n",
        "                          truncation=True, max_length=300, return_tensors=\"pt\")\n",
        "    encoding = {k: v.to(trainer.model.device) for k,v in encoding.items()}\n",
        "\n",
        "    outputs = model(**encoding)\n",
        "    logits = outputs.logits\n",
        "    # apply sigmoid + threshold\n",
        "    sigmoid = torch.nn.Sigmoid()\n",
        "    probs = sigmoid(logits.squeeze().cpu())\n",
        "    predictions = np.zeros(probs.shape)\n",
        "    num_rows = probs.size(0)\n",
        "\n",
        "    return probs.argmax() + 1"
      ]
    },
    {
      "cell_type": "code",
      "execution_count": 4,
      "metadata": {
        "id": "O5-1tJW2hEi4"
      },
      "outputs": [],
      "source": [
        "id2label = {0: '1',\n",
        " 1: '2',\n",
        " 2: '3',\n",
        " 3: '4',\n",
        " 4: '5',\n",
        " 5: '6',\n",
        " 6: '7',\n",
        " 7: '8',\n",
        " 8: '9',\n",
        " 9: '10',\n",
        " 10: '11',\n",
        " 11: '12',\n",
        " 12: '13',\n",
        " 13: '14',\n",
        " 14: '15',\n",
        " 15: '16',\n",
        " 16: '17',\n",
        " 17: '18',\n",
        " 18: '19',\n",
        " 19: '20'}\n",
        "\n",
        "label2id = {'1': 0,\n",
        " '2': 1,\n",
        " '3': 2,\n",
        " '4': 3,\n",
        " '5': 4,\n",
        " '6': 5,\n",
        " '7': 6,\n",
        " '8': 7,\n",
        " '9': 8,\n",
        " '10': 9,\n",
        " '11': 10,\n",
        " '12': 11,\n",
        " '13': 12,\n",
        " '14': 13,\n",
        " '15': 14,\n",
        " '16': 15,\n",
        " '17': 16,\n",
        " '18': 17,\n",
        " '19': 18,\n",
        " '20': 19}"
      ]
    },
    {
      "cell_type": "code",
      "execution_count": 8,
      "metadata": {
        "id": "sxpaEFdwhQp_"
      },
      "outputs": [],
      "source": [
        "# data reader\n",
        "\n",
        "data_train = pd.read_csv('/content/data/train_set.csv')\n",
        "data_train = data_train.drop_duplicates()"
      ]
    },
    {
      "cell_type": "code",
      "execution_count": null,
      "metadata": {
        "id": "EpsluxEOPx7l"
      },
      "outputs": [],
      "source": [
        "# lemmatization module\n",
        "\n",
        "# stop words dictionary from nltk module\n",
        "nltk.download('stopwords')\n",
        "stop_words = set(stopwords.words('english'))\n",
        "\n",
        "# spaCy module lemmatization\n",
        "lemmatizer = WordNetLemmatizer()\n",
        "\n",
        "# preprocess words in sentences\n",
        "def preprocess_text(text):\n",
        "    tokens = text.lower().split()\n",
        "    filtered_tokens = [lemmatizer.lemmatize(token) for token in tokens if token not in stop_words]\n",
        "    return ' '.join(filtered_tokens)"
      ]
    },
    {
      "cell_type": "code",
      "execution_count": null,
      "metadata": {},
      "outputs": [],
      "source": [
        "data_train['text_column'] = data_train['text_column'].apply(preprocess_text)\n",
        "data_train['Directory code'] \\\n",
        "  = data_train['Directory code'].astype(str)"
      ]
    },
    {
      "cell_type": "code",
      "execution_count": 10,
      "metadata": {
        "id": "e33pNc0Shgdi"
      },
      "outputs": [],
      "source": [
        "# citations (references) processing \n",
        "data_train['Citations'] \\\n",
        "    = data_train['Citations'].apply(lambda x:\n",
        "          ', '.join(x.replace('[', '')\\\n",
        "                    .replace(']', '')\\\n",
        "                    .replace(\"'\", '')\n",
        "                    .split(',')))"
      ]
    },
    {
      "cell_type": "code",
      "execution_count": 12,
      "metadata": {
        "id": "LOzUPBhDhwdL"
      },
      "outputs": [],
      "source": [
        "data_train['FULL_TEXT']=data_train['Citations'] + \" \" \\\n",
        "                             + data_train['Text']\n",
        "data_train = data_train[['CELEX_ID', 'FULL_TEXT', 'Directory code']]"
      ]
    },
    {
      "cell_type": "code",
      "execution_count": 13,
      "metadata": {
        "colab": {
          "base_uri": "https://localhost:8080/",
          "height": 143
        },
        "id": "Xrh6yvGEjvJS",
        "outputId": "4c3b15aa-5c62-498a-c9b2-aa7aa17a0735"
      },
      "outputs": [
        {
          "data": {
            "text/html": [
              "\n",
              "  <div id=\"df-6b871a4d-18ce-40c7-9197-bd3734a327eb\" class=\"colab-df-container\">\n",
              "    <div>\n",
              "<style scoped>\n",
              "    .dataframe tbody tr th:only-of-type {\n",
              "        vertical-align: middle;\n",
              "    }\n",
              "\n",
              "    .dataframe tbody tr th {\n",
              "        vertical-align: top;\n",
              "    }\n",
              "\n",
              "    .dataframe thead th {\n",
              "        text-align: right;\n",
              "    }\n",
              "</style>\n",
              "<table border=\"1\" class=\"dataframe\">\n",
              "  <thead>\n",
              "    <tr style=\"text-align: right;\">\n",
              "      <th></th>\n",
              "      <th>CELEX_ID</th>\n",
              "      <th>FULL_TEXT</th>\n",
              "      <th>Directory code</th>\n",
              "    </tr>\n",
              "  </thead>\n",
              "  <tbody>\n",
              "    <tr>\n",
              "      <th>0</th>\n",
              "      <td>32016D1888</td>\n",
              "      <td>OJL149, 20.5.2014, p.67,  OJL131, 1.6.2000, p....</td>\n",
              "      <td>19</td>\n",
              "    </tr>\n",
              "    <tr>\n",
              "      <th>1</th>\n",
              "      <td>32013D0005</td>\n",
              "      <td>OJL322, 14.12.1999, p.32,  OJL164, 25.6.2008, ...</td>\n",
              "      <td>15</td>\n",
              "    </tr>\n",
              "    <tr>\n",
              "      <th>2</th>\n",
              "      <td>32019D1268</td>\n",
              "      <td>OJL65, 11.3.2011, p.1 29.7.2019 EN Official Jo...</td>\n",
              "      <td>20</td>\n",
              "    </tr>\n",
              "  </tbody>\n",
              "</table>\n",
              "</div>\n",
              "    <div class=\"colab-df-buttons\">\n",
              "\n",
              "  <div class=\"colab-df-container\">\n",
              "    <button class=\"colab-df-convert\" onclick=\"convertToInteractive('df-6b871a4d-18ce-40c7-9197-bd3734a327eb')\"\n",
              "            title=\"Convert this dataframe to an interactive table.\"\n",
              "            style=\"display:none;\">\n",
              "\n",
              "  <svg xmlns=\"http://www.w3.org/2000/svg\" height=\"24px\" viewBox=\"0 -960 960 960\">\n",
              "    <path d=\"M120-120v-720h720v720H120Zm60-500h600v-160H180v160Zm220 220h160v-160H400v160Zm0 220h160v-160H400v160ZM180-400h160v-160H180v160Zm440 0h160v-160H620v160ZM180-180h160v-160H180v160Zm440 0h160v-160H620v160Z\"/>\n",
              "  </svg>\n",
              "    </button>\n",
              "\n",
              "  <style>\n",
              "    .colab-df-container {\n",
              "      display:flex;\n",
              "      gap: 12px;\n",
              "    }\n",
              "\n",
              "    .colab-df-convert {\n",
              "      background-color: #E8F0FE;\n",
              "      border: none;\n",
              "      border-radius: 50%;\n",
              "      cursor: pointer;\n",
              "      display: none;\n",
              "      fill: #1967D2;\n",
              "      height: 32px;\n",
              "      padding: 0 0 0 0;\n",
              "      width: 32px;\n",
              "    }\n",
              "\n",
              "    .colab-df-convert:hover {\n",
              "      background-color: #E2EBFA;\n",
              "      box-shadow: 0px 1px 2px rgba(60, 64, 67, 0.3), 0px 1px 3px 1px rgba(60, 64, 67, 0.15);\n",
              "      fill: #174EA6;\n",
              "    }\n",
              "\n",
              "    .colab-df-buttons div {\n",
              "      margin-bottom: 4px;\n",
              "    }\n",
              "\n",
              "    [theme=dark] .colab-df-convert {\n",
              "      background-color: #3B4455;\n",
              "      fill: #D2E3FC;\n",
              "    }\n",
              "\n",
              "    [theme=dark] .colab-df-convert:hover {\n",
              "      background-color: #434B5C;\n",
              "      box-shadow: 0px 1px 3px 1px rgba(0, 0, 0, 0.15);\n",
              "      filter: drop-shadow(0px 1px 2px rgba(0, 0, 0, 0.3));\n",
              "      fill: #FFFFFF;\n",
              "    }\n",
              "  </style>\n",
              "\n",
              "    <script>\n",
              "      const buttonEl =\n",
              "        document.querySelector('#df-6b871a4d-18ce-40c7-9197-bd3734a327eb button.colab-df-convert');\n",
              "      buttonEl.style.display =\n",
              "        google.colab.kernel.accessAllowed ? 'block' : 'none';\n",
              "\n",
              "      async function convertToInteractive(key) {\n",
              "        const element = document.querySelector('#df-6b871a4d-18ce-40c7-9197-bd3734a327eb');\n",
              "        const dataTable =\n",
              "          await google.colab.kernel.invokeFunction('convertToInteractive',\n",
              "                                                    [key], {});\n",
              "        if (!dataTable) return;\n",
              "\n",
              "        const docLinkHtml = 'Like what you see? Visit the ' +\n",
              "          '<a target=\"_blank\" href=https://colab.research.google.com/notebooks/data_table.ipynb>data table notebook</a>'\n",
              "          + ' to learn more about interactive tables.';\n",
              "        element.innerHTML = '';\n",
              "        dataTable['output_type'] = 'display_data';\n",
              "        await google.colab.output.renderOutput(dataTable, element);\n",
              "        const docLink = document.createElement('div');\n",
              "        docLink.innerHTML = docLinkHtml;\n",
              "        element.appendChild(docLink);\n",
              "      }\n",
              "    </script>\n",
              "  </div>\n",
              "\n",
              "\n",
              "<div id=\"df-e75bed23-6083-4571-9dba-36f87e974ca8\">\n",
              "  <button class=\"colab-df-quickchart\" onclick=\"quickchart('df-e75bed23-6083-4571-9dba-36f87e974ca8')\"\n",
              "            title=\"Suggest charts.\"\n",
              "            style=\"display:none;\">\n",
              "\n",
              "<svg xmlns=\"http://www.w3.org/2000/svg\" height=\"24px\"viewBox=\"0 0 24 24\"\n",
              "     width=\"24px\">\n",
              "    <g>\n",
              "        <path d=\"M19 3H5c-1.1 0-2 .9-2 2v14c0 1.1.9 2 2 2h14c1.1 0 2-.9 2-2V5c0-1.1-.9-2-2-2zM9 17H7v-7h2v7zm4 0h-2V7h2v10zm4 0h-2v-4h2v4z\"/>\n",
              "    </g>\n",
              "</svg>\n",
              "  </button>\n",
              "\n",
              "<style>\n",
              "  .colab-df-quickchart {\n",
              "      --bg-color: #E8F0FE;\n",
              "      --fill-color: #1967D2;\n",
              "      --hover-bg-color: #E2EBFA;\n",
              "      --hover-fill-color: #174EA6;\n",
              "      --disabled-fill-color: #AAA;\n",
              "      --disabled-bg-color: #DDD;\n",
              "  }\n",
              "\n",
              "  [theme=dark] .colab-df-quickchart {\n",
              "      --bg-color: #3B4455;\n",
              "      --fill-color: #D2E3FC;\n",
              "      --hover-bg-color: #434B5C;\n",
              "      --hover-fill-color: #FFFFFF;\n",
              "      --disabled-bg-color: #3B4455;\n",
              "      --disabled-fill-color: #666;\n",
              "  }\n",
              "\n",
              "  .colab-df-quickchart {\n",
              "    background-color: var(--bg-color);\n",
              "    border: none;\n",
              "    border-radius: 50%;\n",
              "    cursor: pointer;\n",
              "    display: none;\n",
              "    fill: var(--fill-color);\n",
              "    height: 32px;\n",
              "    padding: 0;\n",
              "    width: 32px;\n",
              "  }\n",
              "\n",
              "  .colab-df-quickchart:hover {\n",
              "    background-color: var(--hover-bg-color);\n",
              "    box-shadow: 0 1px 2px rgba(60, 64, 67, 0.3), 0 1px 3px 1px rgba(60, 64, 67, 0.15);\n",
              "    fill: var(--button-hover-fill-color);\n",
              "  }\n",
              "\n",
              "  .colab-df-quickchart-complete:disabled,\n",
              "  .colab-df-quickchart-complete:disabled:hover {\n",
              "    background-color: var(--disabled-bg-color);\n",
              "    fill: var(--disabled-fill-color);\n",
              "    box-shadow: none;\n",
              "  }\n",
              "\n",
              "  .colab-df-spinner {\n",
              "    border: 2px solid var(--fill-color);\n",
              "    border-color: transparent;\n",
              "    border-bottom-color: var(--fill-color);\n",
              "    animation:\n",
              "      spin 1s steps(1) infinite;\n",
              "  }\n",
              "\n",
              "  @keyframes spin {\n",
              "    0% {\n",
              "      border-color: transparent;\n",
              "      border-bottom-color: var(--fill-color);\n",
              "      border-left-color: var(--fill-color);\n",
              "    }\n",
              "    20% {\n",
              "      border-color: transparent;\n",
              "      border-left-color: var(--fill-color);\n",
              "      border-top-color: var(--fill-color);\n",
              "    }\n",
              "    30% {\n",
              "      border-color: transparent;\n",
              "      border-left-color: var(--fill-color);\n",
              "      border-top-color: var(--fill-color);\n",
              "      border-right-color: var(--fill-color);\n",
              "    }\n",
              "    40% {\n",
              "      border-color: transparent;\n",
              "      border-right-color: var(--fill-color);\n",
              "      border-top-color: var(--fill-color);\n",
              "    }\n",
              "    60% {\n",
              "      border-color: transparent;\n",
              "      border-right-color: var(--fill-color);\n",
              "    }\n",
              "    80% {\n",
              "      border-color: transparent;\n",
              "      border-right-color: var(--fill-color);\n",
              "      border-bottom-color: var(--fill-color);\n",
              "    }\n",
              "    90% {\n",
              "      border-color: transparent;\n",
              "      border-bottom-color: var(--fill-color);\n",
              "    }\n",
              "  }\n",
              "</style>\n",
              "\n",
              "  <script>\n",
              "    async function quickchart(key) {\n",
              "      const quickchartButtonEl =\n",
              "        document.querySelector('#' + key + ' button');\n",
              "      quickchartButtonEl.disabled = true;  // To prevent multiple clicks.\n",
              "      quickchartButtonEl.classList.add('colab-df-spinner');\n",
              "      try {\n",
              "        const charts = await google.colab.kernel.invokeFunction(\n",
              "            'suggestCharts', [key], {});\n",
              "      } catch (error) {\n",
              "        console.error('Error during call to suggestCharts:', error);\n",
              "      }\n",
              "      quickchartButtonEl.classList.remove('colab-df-spinner');\n",
              "      quickchartButtonEl.classList.add('colab-df-quickchart-complete');\n",
              "    }\n",
              "    (() => {\n",
              "      let quickchartButtonEl =\n",
              "        document.querySelector('#df-e75bed23-6083-4571-9dba-36f87e974ca8 button');\n",
              "      quickchartButtonEl.style.display =\n",
              "        google.colab.kernel.accessAllowed ? 'block' : 'none';\n",
              "    })();\n",
              "  </script>\n",
              "</div>\n",
              "    </div>\n",
              "  </div>\n"
            ],
            "text/plain": [
              "     CELEX_ID                                          FULL_TEXT  \\\n",
              "0  32016D1888  OJL149, 20.5.2014, p.67,  OJL131, 1.6.2000, p....   \n",
              "1  32013D0005  OJL322, 14.12.1999, p.32,  OJL164, 25.6.2008, ...   \n",
              "2  32019D1268  OJL65, 11.3.2011, p.1 29.7.2019 EN Official Jo...   \n",
              "\n",
              "  Directory code  \n",
              "0             19  \n",
              "1             15  \n",
              "2             20  "
            ]
          },
          "execution_count": 13,
          "metadata": {},
          "output_type": "execute_result"
        }
      ],
      "source": [
        "data_train.head(3)"
      ]
    },
    {
      "cell_type": "code",
      "execution_count": 14,
      "metadata": {
        "colab": {
          "base_uri": "https://localhost:8080/"
        },
        "id": "rwF5fgARh2Nr",
        "outputId": "1584a976-4307-468c-8fbd-17fe502f21ff"
      },
      "outputs": [
        {
          "name": "stderr",
          "output_type": "stream",
          "text": [
            "<ipython-input-14-ec3bf2c2b68a>:1: SettingWithCopyWarning: \n",
            "A value is trying to be set on a copy of a slice from a DataFrame\n",
            "\n",
            "See the caveats in the documentation: https://pandas.pydata.org/pandas-docs/stable/user_guide/indexing.html#returning-a-view-versus-a-copy\n",
            "  data_train.rename({'Directory code': 'OLD_LABEL'}, axis=1, inplace=True)\n",
            "<ipython-input-14-ec3bf2c2b68a>:2: SettingWithCopyWarning: \n",
            "A value is trying to be set on a copy of a slice from a DataFrame.\n",
            "Try using .loc[row_indexer,col_indexer] = value instead\n",
            "\n",
            "See the caveats in the documentation: https://pandas.pydata.org/pandas-docs/stable/user_guide/indexing.html#returning-a-view-versus-a-copy\n",
            "  data_train['FULL_TEXT'] = data_train.FULL_TEXT.astype('str')\n"
          ]
        }
      ],
      "source": [
        "data_train.rename({'Directory code': 'OLD_LABEL'}, axis=1, inplace=True)\n",
        "data_train['FULL_TEXT'] = data_train.FULL_TEXT.astype('str')"
      ]
    },
    {
      "cell_type": "code",
      "execution_count": 16,
      "metadata": {
        "colab": {
          "base_uri": "https://localhost:8080/"
        },
        "id": "a_B3hnkbh7Nh",
        "outputId": "d478d577-d631-40eb-d611-66dd10a40af1"
      },
      "outputs": [
        {
          "name": "stderr",
          "output_type": "stream",
          "text": [
            "<ipython-input-16-31cc41562caa>:1: SettingWithCopyWarning: \n",
            "A value is trying to be set on a copy of a slice from a DataFrame\n",
            "\n",
            "See the caveats in the documentation: https://pandas.pydata.org/pandas-docs/stable/user_guide/indexing.html#returning-a-view-versus-a-copy\n",
            "  data_train.rename(\n"
          ]
        }
      ],
      "source": [
        "data_train.rename(\n",
        "    {\"CELEX_ID\": \"celex_id\", \"FULL_TEXT\": \"text\", \"OLD_LABEL\": 'old_labels'},\n",
        "    axis=1,\n",
        "    inplace=1)"
      ]
    },
    {
      "cell_type": "code",
      "execution_count": 17,
      "metadata": {
        "id": "fReOxoJ9j3Ui"
      },
      "outputs": [],
      "source": [
        "data_train = data_train[['text', 'old_labels']]\n",
        "data_train.reset_index(inplace=True)"
      ]
    },
    {
      "cell_type": "code",
      "execution_count": 19,
      "metadata": {
        "id": "BU4LqwpTh_-k"
      },
      "outputs": [],
      "source": [
        "tokenizer = AutoTokenizer.from_pretrained(\"nlpaueb/legal-bert-base-uncased\")\n",
        "\n"
      ]
    },
    {
      "cell_type": "code",
      "execution_count": 20,
      "metadata": {
        "colab": {
          "base_uri": "https://localhost:8080/",
          "height": 138,
          "referenced_widgets": [
            "c5156158162a4933b803376d972ab493",
            "18042c3519074615bdcc70e6fe5f76df",
            "74d0f4b6379442d9826e49a66ef8f925",
            "7bbe897eda35455383ba1bcddc9c03b1",
            "775b385766364137b520405b4b867894",
            "f409cbe7c6da4e3cb01fba3e1bc8f058",
            "158409df8af047b3b3911d1c2662fb76",
            "61d9cb44f326470a8ea91eca75d0902c",
            "3b494dcb9b544eda8c947c88acbf8775",
            "d329b22f6a644ef6b9f3413a10a9ba56",
            "09a8281b984e4100858440401c4b9e57"
          ]
        },
        "id": "2iWJKOrMiCQR",
        "outputId": "12f31f77-3ee3-4b9c-a141-4d4c5725ac61"
      },
      "outputs": [
        {
          "name": "stderr",
          "output_type": "stream",
          "text": [
            "WARNING:datasets.fingerprint:Parameter 'function'=<function preprocess_data at 0x7b12041e7be0> of the transform datasets.arrow_dataset.Dataset._map_single couldn't be hashed properly, a random hash was used instead. Make sure your transforms and parameters are serializable with pickle or dill for the dataset fingerprinting and caching to work. If you reuse this transform, the caching mechanism will consider it to be different from the previous calls and recompute everything. This warning is only showed once. Subsequent hashing failures won't be showed.\n"
          ]
        },
        {
          "data": {
            "application/vnd.jupyter.widget-view+json": {
              "model_id": "c5156158162a4933b803376d972ab493",
              "version_major": 2,
              "version_minor": 0
            },
            "text/plain": [
              "  0%|          | 0/12 [00:00<?, ?ba/s]"
            ]
          },
          "metadata": {},
          "output_type": "display_data"
        },
        {
          "name": "stderr",
          "output_type": "stream",
          "text": [
            "<ipython-input-15-3c537cb38aca>:5: DeprecationWarning: `np.float` is a deprecated alias for the builtin `float`. To silence this warning, use `float` by itself. Doing this will not modify any behavior and is safe. If you specifically wanted the numpy scalar type, use `np.float64` here.\n",
            "Deprecated in NumPy 1.20; for more details and guidance: https://numpy.org/devdocs/release/1.20.0-notes.html#deprecations\n",
            "  return np.array(zero_cl, dtype=np.float)\n"
          ]
        }
      ],
      "source": [
        "hg_dataset = Dataset(pa.Table.from_pandas(data_train))\n",
        "encoded_dataset = hg_dataset.map(preprocess_data, batched=True)\n",
        "encoded_dataset = encoded_dataset.train_test_split(test_size=0.3)\n",
        "del(encoded_dataset['old_labels'])"
      ]
    },
    {
      "cell_type": "code",
      "execution_count": 21,
      "metadata": {
        "id": "o7PGeSkYiRTJ"
      },
      "outputs": [],
      "source": [
        "encoded_dataset.set_format(\"torch\")"
      ]
    },
    {
      "cell_type": "code",
      "execution_count": 22,
      "metadata": {
        "colab": {
          "base_uri": "https://localhost:8080/"
        },
        "id": "pgr0oBAeibBj",
        "outputId": "595066a9-9f6d-45b8-b443-a89a3c643349"
      },
      "outputs": [
        {
          "name": "stderr",
          "output_type": "stream",
          "text": [
            "Some weights of the model checkpoint at nlpaueb/legal-bert-base-uncased were not used when initializing BertForSequenceClassification: ['cls.predictions.transform.dense.weight', 'cls.predictions.transform.dense.bias', 'cls.seq_relationship.bias', 'cls.predictions.bias', 'cls.predictions.decoder.weight', 'cls.seq_relationship.weight', 'cls.predictions.transform.LayerNorm.bias', 'cls.predictions.transform.LayerNorm.weight', 'cls.predictions.decoder.bias']\n",
            "- This IS expected if you are initializing BertForSequenceClassification from the checkpoint of a model trained on another task or with another architecture (e.g. initializing a BertForSequenceClassification model from a BertForPreTraining model).\n",
            "- This IS NOT expected if you are initializing BertForSequenceClassification from the checkpoint of a model that you expect to be exactly identical (initializing a BertForSequenceClassification model from a BertForSequenceClassification model).\n",
            "Some weights of BertForSequenceClassification were not initialized from the model checkpoint at nlpaueb/legal-bert-base-uncased and are newly initialized: ['classifier.bias', 'classifier.weight']\n",
            "You should probably TRAIN this model on a down-stream task to be able to use it for predictions and inference.\n"
          ]
        }
      ],
      "source": [
        "model = AutoModelForSequenceClassification.from_pretrained(\"nlpaueb/legal-bert-base-uncased\",\n",
        "                                                           problem_type=\"multi_label_classification\",\n",
        "                                                           num_labels=len(data_train.old_labels.unique()),\n",
        "                                                           id2label=id2label,\n",
        "                                                           label2id=label2id)"
      ]
    },
    {
      "cell_type": "code",
      "execution_count": 23,
      "metadata": {
        "id": "JXCv6JoUiceA"
      },
      "outputs": [],
      "source": [
        "batch_size = 16\n",
        "metric_name = \"f1\""
      ]
    },
    {
      "cell_type": "code",
      "execution_count": 24,
      "metadata": {
        "id": "0rWu4P0DmCdK"
      },
      "outputs": [],
      "source": [
        "args = TrainingArguments(\n",
        "    f\"bert-finetuned-sem_eval-english\",\n",
        "    evaluation_strategy = \"epoch\",\n",
        "    save_strategy = \"epoch\",\n",
        "    learning_rate=2e-5,\n",
        "    per_device_train_batch_size=batch_size,\n",
        "    per_device_eval_batch_size=batch_size,\n",
        "    num_train_epochs=10,\n",
        "    weight_decay=0.01,\n",
        "    load_best_model_at_end=True,\n",
        "    metric_for_best_model=metric_name\n",
        ")"
      ]
    },
    {
      "cell_type": "code",
      "execution_count": 26,
      "metadata": {
        "id": "HAM40JAemRkR"
      },
      "outputs": [],
      "source": [
        "trainer = Trainer(\n",
        "    model,\n",
        "    args,\n",
        "    train_dataset=encoded_dataset['train'],\n",
        "    eval_dataset=encoded_dataset['test'],\n",
        "    tokenizer=tokenizer,\n",
        "    compute_metrics=compute_metrics\n",
        ")"
      ]
    },
    {
      "cell_type": "code",
      "execution_count": 27,
      "metadata": {
        "colab": {
          "base_uri": "https://localhost:8080/",
          "height": 1000
        },
        "id": "vt4xAp7Mmb4j",
        "outputId": "c5658b80-bc5e-4bae-cee8-7516af7f3304"
      },
      "outputs": [
        {
          "name": "stderr",
          "output_type": "stream",
          "text": [
            "The following columns in the training set  don't have a corresponding argument in `BertForSequenceClassification.forward` and have been ignored: index, text, old_labels. If index, text, old_labels are not expected by `BertForSequenceClassification.forward`,  you can safely ignore this message.\n",
            "/usr/local/lib/python3.10/dist-packages/transformers/optimization.py:306: FutureWarning: This implementation of AdamW is deprecated and will be removed in a future version. Use the PyTorch implementation torch.optim.AdamW instead, or set `no_deprecation_warning=True` to disable this warning\n",
            "  warnings.warn(\n",
            "***** Running training *****\n",
            "  Num examples = 7569\n",
            "  Num Epochs = 10\n",
            "  Instantaneous batch size per device = 16\n",
            "  Total train batch size (w. parallel, distributed & accumulation) = 16\n",
            "  Gradient Accumulation steps = 1\n",
            "  Total optimization steps = 4740\n"
          ]
        },
        {
          "data": {
            "text/html": [
              "\n",
              "    <div>\n",
              "      \n",
              "      <progress value='4740' max='4740' style='width:300px; height:20px; vertical-align: middle;'></progress>\n",
              "      [4740/4740 2:13:31, Epoch 10/10]\n",
              "    </div>\n",
              "    <table border=\"1\" class=\"dataframe\">\n",
              "  <thead>\n",
              " <tr style=\"text-align: left;\">\n",
              "      <th>Epoch</th>\n",
              "      <th>Training Loss</th>\n",
              "      <th>Validation Loss</th>\n",
              "      <th>F1</th>\n",
              "      <th>Roc Auc</th>\n",
              "      <th>Accuracy</th>\n",
              "    </tr>\n",
              "  </thead>\n",
              "  <tbody>\n",
              "    <tr>\n",
              "      <td>1</td>\n",
              "      <td>No log</td>\n",
              "      <td>0.074337</td>\n",
              "      <td>0.851167</td>\n",
              "      <td>0.921667</td>\n",
              "      <td>0.851167</td>\n",
              "    </tr>\n",
              "    <tr>\n",
              "      <td>2</td>\n",
              "      <td>0.152800</td>\n",
              "      <td>0.049293</td>\n",
              "      <td>0.884956</td>\n",
              "      <td>0.939450</td>\n",
              "      <td>0.884956</td>\n",
              "    </tr>\n",
              "    <tr>\n",
              "      <td>3</td>\n",
              "      <td>0.059000</td>\n",
              "      <td>0.038698</td>\n",
              "      <td>0.899973</td>\n",
              "      <td>0.947354</td>\n",
              "      <td>0.899973</td>\n",
              "    </tr>\n",
              "    <tr>\n",
              "      <td>4</td>\n",
              "      <td>0.039600</td>\n",
              "      <td>0.034493</td>\n",
              "      <td>0.902923</td>\n",
              "      <td>0.948907</td>\n",
              "      <td>0.902923</td>\n",
              "    </tr>\n",
              "    <tr>\n",
              "      <td>5</td>\n",
              "      <td>0.030500</td>\n",
              "      <td>0.033742</td>\n",
              "      <td>0.905337</td>\n",
              "      <td>0.950177</td>\n",
              "      <td>0.905337</td>\n",
              "    </tr>\n",
              "    <tr>\n",
              "      <td>6</td>\n",
              "      <td>0.023000</td>\n",
              "      <td>0.030805</td>\n",
              "      <td>0.919281</td>\n",
              "      <td>0.957516</td>\n",
              "      <td>0.919281</td>\n",
              "    </tr>\n",
              "    <tr>\n",
              "      <td>7</td>\n",
              "      <td>0.019500</td>\n",
              "      <td>0.030969</td>\n",
              "      <td>0.919013</td>\n",
              "      <td>0.957375</td>\n",
              "      <td>0.919013</td>\n",
              "    </tr>\n",
              "    <tr>\n",
              "      <td>8</td>\n",
              "      <td>0.015700</td>\n",
              "      <td>0.030571</td>\n",
              "      <td>0.922767</td>\n",
              "      <td>0.959351</td>\n",
              "      <td>0.922767</td>\n",
              "    </tr>\n",
              "    <tr>\n",
              "      <td>9</td>\n",
              "      <td>0.013900</td>\n",
              "      <td>0.030300</td>\n",
              "      <td>0.919818</td>\n",
              "      <td>0.957799</td>\n",
              "      <td>0.919818</td>\n",
              "    </tr>\n",
              "    <tr>\n",
              "      <td>10</td>\n",
              "      <td>0.012100</td>\n",
              "      <td>0.030135</td>\n",
              "      <td>0.921158</td>\n",
              "      <td>0.958504</td>\n",
              "      <td>0.921158</td>\n",
              "    </tr>\n",
              "  </tbody>\n",
              "</table><p>"
            ],
            "text/plain": [
              "<IPython.core.display.HTML object>"
            ]
          },
          "metadata": {},
          "output_type": "display_data"
        },
        {
          "name": "stderr",
          "output_type": "stream",
          "text": [
            "The following columns in the evaluation set  don't have a corresponding argument in `BertForSequenceClassification.forward` and have been ignored: index, text, old_labels. If index, text, old_labels are not expected by `BertForSequenceClassification.forward`,  you can safely ignore this message.\n",
            "***** Running Evaluation *****\n",
            "  Num examples = 3729\n",
            "  Batch size = 16\n",
            "Saving model checkpoint to bert-finetuned-sem_eval-english/checkpoint-474\n",
            "Configuration saved in bert-finetuned-sem_eval-english/checkpoint-474/config.json\n",
            "Model weights saved in bert-finetuned-sem_eval-english/checkpoint-474/pytorch_model.bin\n",
            "tokenizer config file saved in bert-finetuned-sem_eval-english/checkpoint-474/tokenizer_config.json\n",
            "Special tokens file saved in bert-finetuned-sem_eval-english/checkpoint-474/special_tokens_map.json\n",
            "The following columns in the evaluation set  don't have a corresponding argument in `BertForSequenceClassification.forward` and have been ignored: index, text, old_labels. If index, text, old_labels are not expected by `BertForSequenceClassification.forward`,  you can safely ignore this message.\n",
            "***** Running Evaluation *****\n",
            "  Num examples = 3729\n",
            "  Batch size = 16\n",
            "Saving model checkpoint to bert-finetuned-sem_eval-english/checkpoint-948\n",
            "Configuration saved in bert-finetuned-sem_eval-english/checkpoint-948/config.json\n",
            "Model weights saved in bert-finetuned-sem_eval-english/checkpoint-948/pytorch_model.bin\n",
            "tokenizer config file saved in bert-finetuned-sem_eval-english/checkpoint-948/tokenizer_config.json\n",
            "Special tokens file saved in bert-finetuned-sem_eval-english/checkpoint-948/special_tokens_map.json\n",
            "The following columns in the evaluation set  don't have a corresponding argument in `BertForSequenceClassification.forward` and have been ignored: index, text, old_labels. If index, text, old_labels are not expected by `BertForSequenceClassification.forward`,  you can safely ignore this message.\n",
            "***** Running Evaluation *****\n",
            "  Num examples = 3729\n",
            "  Batch size = 16\n",
            "Saving model checkpoint to bert-finetuned-sem_eval-english/checkpoint-1422\n",
            "Configuration saved in bert-finetuned-sem_eval-english/checkpoint-1422/config.json\n",
            "Model weights saved in bert-finetuned-sem_eval-english/checkpoint-1422/pytorch_model.bin\n",
            "tokenizer config file saved in bert-finetuned-sem_eval-english/checkpoint-1422/tokenizer_config.json\n",
            "Special tokens file saved in bert-finetuned-sem_eval-english/checkpoint-1422/special_tokens_map.json\n",
            "The following columns in the evaluation set  don't have a corresponding argument in `BertForSequenceClassification.forward` and have been ignored: index, text, old_labels. If index, text, old_labels are not expected by `BertForSequenceClassification.forward`,  you can safely ignore this message.\n",
            "***** Running Evaluation *****\n",
            "  Num examples = 3729\n",
            "  Batch size = 16\n",
            "Saving model checkpoint to bert-finetuned-sem_eval-english/checkpoint-1896\n",
            "Configuration saved in bert-finetuned-sem_eval-english/checkpoint-1896/config.json\n",
            "Model weights saved in bert-finetuned-sem_eval-english/checkpoint-1896/pytorch_model.bin\n",
            "tokenizer config file saved in bert-finetuned-sem_eval-english/checkpoint-1896/tokenizer_config.json\n",
            "Special tokens file saved in bert-finetuned-sem_eval-english/checkpoint-1896/special_tokens_map.json\n",
            "The following columns in the evaluation set  don't have a corresponding argument in `BertForSequenceClassification.forward` and have been ignored: index, text, old_labels. If index, text, old_labels are not expected by `BertForSequenceClassification.forward`,  you can safely ignore this message.\n",
            "***** Running Evaluation *****\n",
            "  Num examples = 3729\n",
            "  Batch size = 16\n",
            "Saving model checkpoint to bert-finetuned-sem_eval-english/checkpoint-2370\n",
            "Configuration saved in bert-finetuned-sem_eval-english/checkpoint-2370/config.json\n",
            "Model weights saved in bert-finetuned-sem_eval-english/checkpoint-2370/pytorch_model.bin\n",
            "tokenizer config file saved in bert-finetuned-sem_eval-english/checkpoint-2370/tokenizer_config.json\n",
            "Special tokens file saved in bert-finetuned-sem_eval-english/checkpoint-2370/special_tokens_map.json\n",
            "The following columns in the evaluation set  don't have a corresponding argument in `BertForSequenceClassification.forward` and have been ignored: index, text, old_labels. If index, text, old_labels are not expected by `BertForSequenceClassification.forward`,  you can safely ignore this message.\n",
            "***** Running Evaluation *****\n",
            "  Num examples = 3729\n",
            "  Batch size = 16\n",
            "Saving model checkpoint to bert-finetuned-sem_eval-english/checkpoint-2844\n",
            "Configuration saved in bert-finetuned-sem_eval-english/checkpoint-2844/config.json\n",
            "Model weights saved in bert-finetuned-sem_eval-english/checkpoint-2844/pytorch_model.bin\n",
            "tokenizer config file saved in bert-finetuned-sem_eval-english/checkpoint-2844/tokenizer_config.json\n",
            "Special tokens file saved in bert-finetuned-sem_eval-english/checkpoint-2844/special_tokens_map.json\n",
            "The following columns in the evaluation set  don't have a corresponding argument in `BertForSequenceClassification.forward` and have been ignored: index, text, old_labels. If index, text, old_labels are not expected by `BertForSequenceClassification.forward`,  you can safely ignore this message.\n",
            "***** Running Evaluation *****\n",
            "  Num examples = 3729\n",
            "  Batch size = 16\n",
            "Saving model checkpoint to bert-finetuned-sem_eval-english/checkpoint-3318\n",
            "Configuration saved in bert-finetuned-sem_eval-english/checkpoint-3318/config.json\n",
            "Model weights saved in bert-finetuned-sem_eval-english/checkpoint-3318/pytorch_model.bin\n",
            "tokenizer config file saved in bert-finetuned-sem_eval-english/checkpoint-3318/tokenizer_config.json\n",
            "Special tokens file saved in bert-finetuned-sem_eval-english/checkpoint-3318/special_tokens_map.json\n",
            "The following columns in the evaluation set  don't have a corresponding argument in `BertForSequenceClassification.forward` and have been ignored: index, text, old_labels. If index, text, old_labels are not expected by `BertForSequenceClassification.forward`,  you can safely ignore this message.\n",
            "***** Running Evaluation *****\n",
            "  Num examples = 3729\n",
            "  Batch size = 16\n",
            "Saving model checkpoint to bert-finetuned-sem_eval-english/checkpoint-3792\n",
            "Configuration saved in bert-finetuned-sem_eval-english/checkpoint-3792/config.json\n",
            "Model weights saved in bert-finetuned-sem_eval-english/checkpoint-3792/pytorch_model.bin\n",
            "tokenizer config file saved in bert-finetuned-sem_eval-english/checkpoint-3792/tokenizer_config.json\n",
            "Special tokens file saved in bert-finetuned-sem_eval-english/checkpoint-3792/special_tokens_map.json\n",
            "The following columns in the evaluation set  don't have a corresponding argument in `BertForSequenceClassification.forward` and have been ignored: index, text, old_labels. If index, text, old_labels are not expected by `BertForSequenceClassification.forward`,  you can safely ignore this message.\n",
            "***** Running Evaluation *****\n",
            "  Num examples = 3729\n",
            "  Batch size = 16\n",
            "Saving model checkpoint to bert-finetuned-sem_eval-english/checkpoint-4266\n",
            "Configuration saved in bert-finetuned-sem_eval-english/checkpoint-4266/config.json\n",
            "Model weights saved in bert-finetuned-sem_eval-english/checkpoint-4266/pytorch_model.bin\n",
            "tokenizer config file saved in bert-finetuned-sem_eval-english/checkpoint-4266/tokenizer_config.json\n",
            "Special tokens file saved in bert-finetuned-sem_eval-english/checkpoint-4266/special_tokens_map.json\n",
            "The following columns in the evaluation set  don't have a corresponding argument in `BertForSequenceClassification.forward` and have been ignored: index, text, old_labels. If index, text, old_labels are not expected by `BertForSequenceClassification.forward`,  you can safely ignore this message.\n",
            "***** Running Evaluation *****\n",
            "  Num examples = 3729\n",
            "  Batch size = 16\n",
            "Saving model checkpoint to bert-finetuned-sem_eval-english/checkpoint-4740\n",
            "Configuration saved in bert-finetuned-sem_eval-english/checkpoint-4740/config.json\n",
            "Model weights saved in bert-finetuned-sem_eval-english/checkpoint-4740/pytorch_model.bin\n",
            "tokenizer config file saved in bert-finetuned-sem_eval-english/checkpoint-4740/tokenizer_config.json\n",
            "Special tokens file saved in bert-finetuned-sem_eval-english/checkpoint-4740/special_tokens_map.json\n",
            "\n",
            "\n",
            "Training completed. Do not forget to share your model on huggingface.co/models =)\n",
            "\n",
            "\n",
            "Loading best model from bert-finetuned-sem_eval-english/checkpoint-3792 (score: 0.9227674979887369).\n"
          ]
        },
        {
          "data": {
            "text/plain": [
              "TrainOutput(global_step=4740, training_loss=0.039191682881946806, metrics={'train_runtime': 8013.6197, 'train_samples_per_second': 9.445, 'train_steps_per_second': 0.591, 'total_flos': 1.945126398204e+16, 'train_loss': 0.039191682881946806, 'epoch': 10.0})"
            ]
          },
          "execution_count": 27,
          "metadata": {},
          "output_type": "execute_result"
        }
      ],
      "source": [
        "trainer.train()"
      ]
    },
    {
      "cell_type": "code",
      "execution_count": 28,
      "metadata": {
        "colab": {
          "base_uri": "https://localhost:8080/",
          "height": 265
        },
        "id": "XQFBK0g4mf4i",
        "outputId": "055b6bff-72f8-439a-c321-69a33650b42c"
      },
      "outputs": [
        {
          "name": "stderr",
          "output_type": "stream",
          "text": [
            "The following columns in the evaluation set  don't have a corresponding argument in `BertForSequenceClassification.forward` and have been ignored: index, text, old_labels. If index, text, old_labels are not expected by `BertForSequenceClassification.forward`,  you can safely ignore this message.\n",
            "***** Running Evaluation *****\n",
            "  Num examples = 3729\n",
            "  Batch size = 16\n"
          ]
        },
        {
          "data": {
            "text/html": [
              "\n",
              "    <div>\n",
              "      \n",
              "      <progress value='234' max='234' style='width:300px; height:20px; vertical-align: middle;'></progress>\n",
              "      [234/234 01:55]\n",
              "    </div>\n",
              "    "
            ],
            "text/plain": [
              "<IPython.core.display.HTML object>"
            ]
          },
          "metadata": {},
          "output_type": "display_data"
        },
        {
          "data": {
            "text/plain": [
              "{'eval_loss': 0.03057071939110756,\n",
              " 'eval_f1': 0.9227674979887369,\n",
              " 'eval_roc_auc': 0.9593513147309142,\n",
              " 'eval_accuracy': 0.9227674979887369,\n",
              " 'eval_runtime': 115.7481,\n",
              " 'eval_samples_per_second': 32.217,\n",
              " 'eval_steps_per_second': 2.022,\n",
              " 'epoch': 10.0}"
            ]
          },
          "execution_count": 28,
          "metadata": {},
          "output_type": "execute_result"
        }
      ],
      "source": [
        "trainer.evaluate()"
      ]
    },
    {
      "cell_type": "code",
      "execution_count": null,
      "metadata": {
        "id": "KwMjlGHcB4JQ"
      },
      "outputs": [],
      "source": [
        "data_test = pd.read_csv('/content/data/new_test.csv')\n",
        "del(data_test['Unnamed: 0'])\n",
        "del(data_test['CELEX_ID'])\n",
        "data_test['Citations'] \\\n",
        "    = data_test['Citations'].apply(lambda x: ', '.join(x.replace('[', '').replace(']', '').split(',')))\n",
        "data_test['Text'] = data_test['Citations'].str.replace(\"'\", '') + \" [SEP] \" + data_test['Text']\n",
        "data_test.rename({\"CELEX_ID\": \"celex_id\", 'Text': 'text'}, axis=1, inplace=True)\n",
        "data_test = data_test[['text']]\n",
        "data_test = data_test.reset_index(drop=True)"
      ]
    },
    {
      "cell_type": "code",
      "execution_count": 40,
      "metadata": {
        "id": "w2Zldv_MPVxt"
      },
      "outputs": [],
      "source": [
        "text = data_test[\"text\"]\n",
        "text = [re.sub(\"^[A-Za-z0-9]*$\", \"\", text_iter.lower())\n",
        "    .replace(' sep ', 'SEP') for text_iter in text]\n",
        "hg_dataset = Dataset(pa.Table.from_pandas(data_test))"
      ]
    },
    {
      "cell_type": "code",
      "execution_count": 41,
      "metadata": {
        "id": "iYAOdWEzB5jt"
      },
      "outputs": [],
      "source": [
        "labels = [int(predict_label(text=text['text'])) for text in hg_dataset]\n",
        "labels = pd.DataFrame(labels)\n",
        "labels.to_csv('test_new_answ.csv')  # result csv file"
      ]
    },
    {
      "cell_type": "code",
      "execution_count": null,
      "metadata": {
        "colab": {
          "base_uri": "https://localhost:8080/",
          "height": 331
        },
        "id": "p0FiIIR4PWib",
        "outputId": "62e2a1ef-1523-4903-f709-4cb855772c5f"
      },
      "outputs": [],
      "source": [
        "labels = pd.DataFrame(labels)\n"
      ]
    },
    {
      "cell_type": "code",
      "execution_count": 50,
      "metadata": {
        "colab": {
          "base_uri": "https://localhost:8080/"
        },
        "id": "uZpIio1MPZhJ",
        "outputId": "031d515b-a3fa-425e-940e-db49d6940441"
      },
      "outputs": [
        {
          "data": {
            "text/plain": [
              "1     707\n",
              "18    189\n",
              "11    167\n",
              "3      81\n",
              "15     26\n",
              "13     18\n",
              "16     11\n",
              "5       7\n",
              "10      6\n",
              "7       4\n",
              "19      4\n",
              "6       4\n",
              "4       3\n",
              "17      2\n",
              "12      1\n",
              "9       1\n",
              "Name: 0, dtype: int64"
            ]
          },
          "execution_count": 50,
          "metadata": {},
          "output_type": "execute_result"
        }
      ],
      "source": [
        "labels[0].value_counts()"
      ]
    },
    {
      "cell_type": "code",
      "execution_count": null,
      "metadata": {
        "id": "xL0v96anQDCY"
      },
      "outputs": [],
      "source": []
    }
  ],
  "metadata": {
    "accelerator": "GPU",
    "colab": {
      "gpuType": "T4",
      "machine_shape": "hm",
      "provenance": []
    },
    "kernelspec": {
      "display_name": "Python 3",
      "name": "python3"
    },
    "language_info": {
      "name": "python"
    },
    "widgets": {
      "application/vnd.jupyter.widget-state+json": {
        "09a8281b984e4100858440401c4b9e57": {
          "model_module": "@jupyter-widgets/controls",
          "model_module_version": "1.5.0",
          "model_name": "DescriptionStyleModel",
          "state": {
            "_model_module": "@jupyter-widgets/controls",
            "_model_module_version": "1.5.0",
            "_model_name": "DescriptionStyleModel",
            "_view_count": null,
            "_view_module": "@jupyter-widgets/base",
            "_view_module_version": "1.2.0",
            "_view_name": "StyleView",
            "description_width": ""
          }
        },
        "158409df8af047b3b3911d1c2662fb76": {
          "model_module": "@jupyter-widgets/controls",
          "model_module_version": "1.5.0",
          "model_name": "DescriptionStyleModel",
          "state": {
            "_model_module": "@jupyter-widgets/controls",
            "_model_module_version": "1.5.0",
            "_model_name": "DescriptionStyleModel",
            "_view_count": null,
            "_view_module": "@jupyter-widgets/base",
            "_view_module_version": "1.2.0",
            "_view_name": "StyleView",
            "description_width": ""
          }
        },
        "18042c3519074615bdcc70e6fe5f76df": {
          "model_module": "@jupyter-widgets/controls",
          "model_module_version": "1.5.0",
          "model_name": "HTMLModel",
          "state": {
            "_dom_classes": [],
            "_model_module": "@jupyter-widgets/controls",
            "_model_module_version": "1.5.0",
            "_model_name": "HTMLModel",
            "_view_count": null,
            "_view_module": "@jupyter-widgets/controls",
            "_view_module_version": "1.5.0",
            "_view_name": "HTMLView",
            "description": "",
            "description_tooltip": null,
            "layout": "IPY_MODEL_f409cbe7c6da4e3cb01fba3e1bc8f058",
            "placeholder": "​",
            "style": "IPY_MODEL_158409df8af047b3b3911d1c2662fb76",
            "value": "100%"
          }
        },
        "3b494dcb9b544eda8c947c88acbf8775": {
          "model_module": "@jupyter-widgets/controls",
          "model_module_version": "1.5.0",
          "model_name": "ProgressStyleModel",
          "state": {
            "_model_module": "@jupyter-widgets/controls",
            "_model_module_version": "1.5.0",
            "_model_name": "ProgressStyleModel",
            "_view_count": null,
            "_view_module": "@jupyter-widgets/base",
            "_view_module_version": "1.2.0",
            "_view_name": "StyleView",
            "bar_color": null,
            "description_width": ""
          }
        },
        "61d9cb44f326470a8ea91eca75d0902c": {
          "model_module": "@jupyter-widgets/base",
          "model_module_version": "1.2.0",
          "model_name": "LayoutModel",
          "state": {
            "_model_module": "@jupyter-widgets/base",
            "_model_module_version": "1.2.0",
            "_model_name": "LayoutModel",
            "_view_count": null,
            "_view_module": "@jupyter-widgets/base",
            "_view_module_version": "1.2.0",
            "_view_name": "LayoutView",
            "align_content": null,
            "align_items": null,
            "align_self": null,
            "border": null,
            "bottom": null,
            "display": null,
            "flex": null,
            "flex_flow": null,
            "grid_area": null,
            "grid_auto_columns": null,
            "grid_auto_flow": null,
            "grid_auto_rows": null,
            "grid_column": null,
            "grid_gap": null,
            "grid_row": null,
            "grid_template_areas": null,
            "grid_template_columns": null,
            "grid_template_rows": null,
            "height": null,
            "justify_content": null,
            "justify_items": null,
            "left": null,
            "margin": null,
            "max_height": null,
            "max_width": null,
            "min_height": null,
            "min_width": null,
            "object_fit": null,
            "object_position": null,
            "order": null,
            "overflow": null,
            "overflow_x": null,
            "overflow_y": null,
            "padding": null,
            "right": null,
            "top": null,
            "visibility": null,
            "width": null
          }
        },
        "74d0f4b6379442d9826e49a66ef8f925": {
          "model_module": "@jupyter-widgets/controls",
          "model_module_version": "1.5.0",
          "model_name": "FloatProgressModel",
          "state": {
            "_dom_classes": [],
            "_model_module": "@jupyter-widgets/controls",
            "_model_module_version": "1.5.0",
            "_model_name": "FloatProgressModel",
            "_view_count": null,
            "_view_module": "@jupyter-widgets/controls",
            "_view_module_version": "1.5.0",
            "_view_name": "ProgressView",
            "bar_style": "success",
            "description": "",
            "description_tooltip": null,
            "layout": "IPY_MODEL_61d9cb44f326470a8ea91eca75d0902c",
            "max": 12,
            "min": 0,
            "orientation": "horizontal",
            "style": "IPY_MODEL_3b494dcb9b544eda8c947c88acbf8775",
            "value": 12
          }
        },
        "775b385766364137b520405b4b867894": {
          "model_module": "@jupyter-widgets/base",
          "model_module_version": "1.2.0",
          "model_name": "LayoutModel",
          "state": {
            "_model_module": "@jupyter-widgets/base",
            "_model_module_version": "1.2.0",
            "_model_name": "LayoutModel",
            "_view_count": null,
            "_view_module": "@jupyter-widgets/base",
            "_view_module_version": "1.2.0",
            "_view_name": "LayoutView",
            "align_content": null,
            "align_items": null,
            "align_self": null,
            "border": null,
            "bottom": null,
            "display": null,
            "flex": null,
            "flex_flow": null,
            "grid_area": null,
            "grid_auto_columns": null,
            "grid_auto_flow": null,
            "grid_auto_rows": null,
            "grid_column": null,
            "grid_gap": null,
            "grid_row": null,
            "grid_template_areas": null,
            "grid_template_columns": null,
            "grid_template_rows": null,
            "height": null,
            "justify_content": null,
            "justify_items": null,
            "left": null,
            "margin": null,
            "max_height": null,
            "max_width": null,
            "min_height": null,
            "min_width": null,
            "object_fit": null,
            "object_position": null,
            "order": null,
            "overflow": null,
            "overflow_x": null,
            "overflow_y": null,
            "padding": null,
            "right": null,
            "top": null,
            "visibility": null,
            "width": null
          }
        },
        "7bbe897eda35455383ba1bcddc9c03b1": {
          "model_module": "@jupyter-widgets/controls",
          "model_module_version": "1.5.0",
          "model_name": "HTMLModel",
          "state": {
            "_dom_classes": [],
            "_model_module": "@jupyter-widgets/controls",
            "_model_module_version": "1.5.0",
            "_model_name": "HTMLModel",
            "_view_count": null,
            "_view_module": "@jupyter-widgets/controls",
            "_view_module_version": "1.5.0",
            "_view_name": "HTMLView",
            "description": "",
            "description_tooltip": null,
            "layout": "IPY_MODEL_d329b22f6a644ef6b9f3413a10a9ba56",
            "placeholder": "​",
            "style": "IPY_MODEL_09a8281b984e4100858440401c4b9e57",
            "value": " 12/12 [00:44&lt;00:00,  2.31s/ba]"
          }
        },
        "c5156158162a4933b803376d972ab493": {
          "model_module": "@jupyter-widgets/controls",
          "model_module_version": "1.5.0",
          "model_name": "HBoxModel",
          "state": {
            "_dom_classes": [],
            "_model_module": "@jupyter-widgets/controls",
            "_model_module_version": "1.5.0",
            "_model_name": "HBoxModel",
            "_view_count": null,
            "_view_module": "@jupyter-widgets/controls",
            "_view_module_version": "1.5.0",
            "_view_name": "HBoxView",
            "box_style": "",
            "children": [
              "IPY_MODEL_18042c3519074615bdcc70e6fe5f76df",
              "IPY_MODEL_74d0f4b6379442d9826e49a66ef8f925",
              "IPY_MODEL_7bbe897eda35455383ba1bcddc9c03b1"
            ],
            "layout": "IPY_MODEL_775b385766364137b520405b4b867894"
          }
        },
        "d329b22f6a644ef6b9f3413a10a9ba56": {
          "model_module": "@jupyter-widgets/base",
          "model_module_version": "1.2.0",
          "model_name": "LayoutModel",
          "state": {
            "_model_module": "@jupyter-widgets/base",
            "_model_module_version": "1.2.0",
            "_model_name": "LayoutModel",
            "_view_count": null,
            "_view_module": "@jupyter-widgets/base",
            "_view_module_version": "1.2.0",
            "_view_name": "LayoutView",
            "align_content": null,
            "align_items": null,
            "align_self": null,
            "border": null,
            "bottom": null,
            "display": null,
            "flex": null,
            "flex_flow": null,
            "grid_area": null,
            "grid_auto_columns": null,
            "grid_auto_flow": null,
            "grid_auto_rows": null,
            "grid_column": null,
            "grid_gap": null,
            "grid_row": null,
            "grid_template_areas": null,
            "grid_template_columns": null,
            "grid_template_rows": null,
            "height": null,
            "justify_content": null,
            "justify_items": null,
            "left": null,
            "margin": null,
            "max_height": null,
            "max_width": null,
            "min_height": null,
            "min_width": null,
            "object_fit": null,
            "object_position": null,
            "order": null,
            "overflow": null,
            "overflow_x": null,
            "overflow_y": null,
            "padding": null,
            "right": null,
            "top": null,
            "visibility": null,
            "width": null
          }
        },
        "f409cbe7c6da4e3cb01fba3e1bc8f058": {
          "model_module": "@jupyter-widgets/base",
          "model_module_version": "1.2.0",
          "model_name": "LayoutModel",
          "state": {
            "_model_module": "@jupyter-widgets/base",
            "_model_module_version": "1.2.0",
            "_model_name": "LayoutModel",
            "_view_count": null,
            "_view_module": "@jupyter-widgets/base",
            "_view_module_version": "1.2.0",
            "_view_name": "LayoutView",
            "align_content": null,
            "align_items": null,
            "align_self": null,
            "border": null,
            "bottom": null,
            "display": null,
            "flex": null,
            "flex_flow": null,
            "grid_area": null,
            "grid_auto_columns": null,
            "grid_auto_flow": null,
            "grid_auto_rows": null,
            "grid_column": null,
            "grid_gap": null,
            "grid_row": null,
            "grid_template_areas": null,
            "grid_template_columns": null,
            "grid_template_rows": null,
            "height": null,
            "justify_content": null,
            "justify_items": null,
            "left": null,
            "margin": null,
            "max_height": null,
            "max_width": null,
            "min_height": null,
            "min_width": null,
            "object_fit": null,
            "object_position": null,
            "order": null,
            "overflow": null,
            "overflow_x": null,
            "overflow_y": null,
            "padding": null,
            "right": null,
            "top": null,
            "visibility": null,
            "width": null
          }
        }
      }
    }
  },
  "nbformat": 4,
  "nbformat_minor": 0
}
